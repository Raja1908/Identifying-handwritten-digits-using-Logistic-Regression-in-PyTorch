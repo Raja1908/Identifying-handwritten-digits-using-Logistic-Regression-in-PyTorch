{
 "cells": [
  {
   "cell_type": "code",
   "execution_count": 1,
   "metadata": {},
   "outputs": [],
   "source": [
    "import torch \n",
    "import torch.nn as nn \n",
    "import torchvision.datasets as dsets \n",
    "import torchvision.transforms as transforms \n",
    "from torch.autograd import Variable \n"
   ]
  },
  {
   "cell_type": "code",
   "execution_count": 13,
   "metadata": {},
   "outputs": [],
   "source": [
    "# Hyper Parameters \n",
    "input_size = 784\n",
    "num_classes = 10\n",
    "num_epochs = 6\n",
    "batch_size = 100\n",
    "learning_rate = 0.011\n"
   ]
  },
  {
   "cell_type": "code",
   "execution_count": 14,
   "metadata": {},
   "outputs": [],
   "source": [
    "# MNIST Dataset (Images and Labels) \n",
    "train_dataset = dsets.MNIST(root ='./data', \n",
    "\t\t\t\t\t\t\ttrain = True, \n",
    "\t\t\t\t\t\t\ttransform = transforms.ToTensor(), \n",
    "\t\t\t\t\t\t\tdownload = True) \n",
    "\n",
    "test_dataset = dsets.MNIST(root ='./data', \n",
    "\t\t\t\t\t\ttrain = False, \n",
    "\t\t\t\t\t\ttransform = transforms.ToTensor()) \n",
    "\n",
    "# Dataset Loader (Input Pipline) \n",
    "train_loader = torch.utils.data.DataLoader(dataset = train_dataset, \n",
    "\t\t\t\t\t\t\t\t\t\tbatch_size = batch_size, \n",
    "\t\t\t\t\t\t\t\t\t\tshuffle = True) \n",
    "\n",
    "test_loader = torch.utils.data.DataLoader(dataset = test_dataset, \n",
    "\t\t\t\t\t\t\t\t\t\tbatch_size = batch_size, \n",
    "\t\t\t\t\t\t\t\t\t\tshuffle = False) \n"
   ]
  },
  {
   "cell_type": "code",
   "execution_count": 15,
   "metadata": {},
   "outputs": [],
   "source": [
    "class LogisticRegression(nn.Module): \n",
    "\tdef __init__(self, input_size, num_classes): \n",
    "\t\tsuper(LogisticRegression, self).__init__() \n",
    "\t\tself.linear = nn.Linear(input_size, num_classes) \n",
    "\n",
    "\tdef forward(self, x): \n",
    "\t\tout = self.linear(x) \n",
    "\t\treturn out \n"
   ]
  },
  {
   "cell_type": "code",
   "execution_count": 16,
   "metadata": {},
   "outputs": [],
   "source": [
    "model = LogisticRegression(input_size, num_classes) \n"
   ]
  },
  {
   "cell_type": "code",
   "execution_count": 17,
   "metadata": {},
   "outputs": [],
   "source": [
    "criterion = nn.CrossEntropyLoss() \n",
    "optimizer = torch.optim.SGD(model.parameters(), lr = learning_rate) \n"
   ]
  },
  {
   "cell_type": "code",
   "execution_count": 18,
   "metadata": {},
   "outputs": [
    {
     "name": "stdout",
     "output_type": "stream",
     "text": [
      "Epoch: [ 1/ 6], Step: [ 100/ 600], Loss: 1.4240\n",
      "Epoch: [ 1/ 6], Step: [ 200/ 600], Loss: 1.1681\n",
      "Epoch: [ 1/ 6], Step: [ 300/ 600], Loss: 0.9369\n",
      "Epoch: [ 1/ 6], Step: [ 400/ 600], Loss: 0.9049\n",
      "Epoch: [ 1/ 6], Step: [ 500/ 600], Loss: 0.7864\n",
      "Epoch: [ 1/ 6], Step: [ 600/ 600], Loss: 0.6990\n",
      "Epoch: [ 2/ 6], Step: [ 100/ 600], Loss: 0.6789\n",
      "Epoch: [ 2/ 6], Step: [ 200/ 600], Loss: 0.6102\n",
      "Epoch: [ 2/ 6], Step: [ 300/ 600], Loss: 0.5213\n",
      "Epoch: [ 2/ 6], Step: [ 400/ 600], Loss: 0.5703\n",
      "Epoch: [ 2/ 6], Step: [ 500/ 600], Loss: 0.5611\n",
      "Epoch: [ 2/ 6], Step: [ 600/ 600], Loss: 0.5170\n",
      "Epoch: [ 3/ 6], Step: [ 100/ 600], Loss: 0.4780\n",
      "Epoch: [ 3/ 6], Step: [ 200/ 600], Loss: 0.6600\n",
      "Epoch: [ 3/ 6], Step: [ 300/ 600], Loss: 0.5088\n",
      "Epoch: [ 3/ 6], Step: [ 400/ 600], Loss: 0.4597\n",
      "Epoch: [ 3/ 6], Step: [ 500/ 600], Loss: 0.4627\n",
      "Epoch: [ 3/ 6], Step: [ 600/ 600], Loss: 0.4434\n",
      "Epoch: [ 4/ 6], Step: [ 100/ 600], Loss: 0.4218\n",
      "Epoch: [ 4/ 6], Step: [ 200/ 600], Loss: 0.4052\n",
      "Epoch: [ 4/ 6], Step: [ 300/ 600], Loss: 0.4008\n",
      "Epoch: [ 4/ 6], Step: [ 400/ 600], Loss: 0.4872\n",
      "Epoch: [ 4/ 6], Step: [ 500/ 600], Loss: 0.5057\n",
      "Epoch: [ 4/ 6], Step: [ 600/ 600], Loss: 0.4707\n",
      "Epoch: [ 5/ 6], Step: [ 100/ 600], Loss: 0.4829\n",
      "Epoch: [ 5/ 6], Step: [ 200/ 600], Loss: 0.4107\n",
      "Epoch: [ 5/ 6], Step: [ 300/ 600], Loss: 0.5198\n",
      "Epoch: [ 5/ 6], Step: [ 400/ 600], Loss: 0.5844\n",
      "Epoch: [ 5/ 6], Step: [ 500/ 600], Loss: 0.5097\n",
      "Epoch: [ 5/ 6], Step: [ 600/ 600], Loss: 0.4156\n",
      "Epoch: [ 6/ 6], Step: [ 100/ 600], Loss: 0.4225\n",
      "Epoch: [ 6/ 6], Step: [ 200/ 600], Loss: 0.4118\n",
      "Epoch: [ 6/ 6], Step: [ 300/ 600], Loss: 0.4539\n",
      "Epoch: [ 6/ 6], Step: [ 400/ 600], Loss: 0.4386\n",
      "Epoch: [ 6/ 6], Step: [ 500/ 600], Loss: 0.4043\n",
      "Epoch: [ 6/ 6], Step: [ 600/ 600], Loss: 0.4160\n"
     ]
    }
   ],
   "source": [
    "# Training the Model \n",
    "for epoch in range(num_epochs): \n",
    "\tfor i, (images, labels) in enumerate(train_loader): \n",
    "\t\timages = Variable(images.view(-1, 28 * 28)) \n",
    "\t\tlabels = Variable(labels) \n",
    "\n",
    "\t\t# Forward + Backward + Optimize \n",
    "\t\toptimizer.zero_grad() \n",
    "\t\toutputs = model(images) \n",
    "\t\tloss = criterion(outputs, labels) \n",
    "\t\tloss.backward() \n",
    "\t\toptimizer.step() \n",
    "\n",
    "\t\tif (i + 1) % 100 == 0: \n",
    "\t\t\tprint('Epoch: [% d/% d], Step: [% d/% d], Loss: %.4f' % (epoch + 1, num_epochs, i + 1, len(train_dataset) // batch_size, loss.data)) \n"
   ]
  },
  {
   "cell_type": "code",
   "execution_count": 19,
   "metadata": {},
   "outputs": [
    {
     "name": "stdout",
     "output_type": "stream",
     "text": [
      "Accuracy of the model on the 10000 test images:  89 %\n"
     ]
    }
   ],
   "source": [
    "# Test the Model \n",
    "correct = 0\n",
    "total = 0\n",
    "for images, labels in test_loader: \n",
    "\timages = Variable(images.view(-1, 28 * 28)) \n",
    "\toutputs = model(images) \n",
    "\t_, predicted = torch.max(outputs.data, 1) \n",
    "\ttotal += labels.size(0) \n",
    "\tcorrect += (predicted == labels).sum() \n",
    "\n",
    "print('Accuracy of the model on the 10000 test images: % d %%' % ( 100 * correct / total)) \n"
   ]
  },
  {
   "cell_type": "code",
   "execution_count": null,
   "metadata": {},
   "outputs": [],
   "source": []
  }
 ],
 "metadata": {
  "kernelspec": {
   "display_name": "Python 3",
   "language": "python",
   "name": "python3"
  },
  "language_info": {
   "codemirror_mode": {
    "name": "ipython",
    "version": 3
   },
   "file_extension": ".py",
   "mimetype": "text/x-python",
   "name": "python",
   "nbconvert_exporter": "python",
   "pygments_lexer": "ipython3",
   "version": "3.7.1"
  }
 },
 "nbformat": 4,
 "nbformat_minor": 2
}
